{
 "cells": [
  {
   "cell_type": "raw",
   "id": "52676b9b",
   "metadata": {},
   "source": [
    "---\n",
    "title: \"Workflow_A_Peng - R Notebook\"\n",
    "output:\n",
    "  html_notebook:\n",
    "    fig_width: 16\n",
    "    fig_height: 9\n",
    "    toc: yes\n",
    "  html_document:\n",
    "    toc: yes\n",
    "    df_print: paged\n",
    "---"
   ]
  },
  {
   "cell_type": "markdown",
   "id": "a30301cf",
   "metadata": {},
   "source": [
    "# Como converter objeto Anndata para Seurat (reproduzir essa parte no Python) --> Exemplo Sanbomics\n",
    "# Existem algumas formas de conversão direta entre um objeto Anndata para Seurat preservando toda análise, mas surgiram alguns erros e problemas no output final\n",
    "# Apesar de mais trabalhoso, recomendo converter os arquivos brutos e realizar análise do começo ao fim\n",
    "# Criamos um diretório para salvar os arquivos (barcodes, features e matrix)\n",
    "\n",
    "!mkdir matrix_files\n",
    "\n",
    "# Salvando barcodes, features e matrix\n",
    "\n",
    "with open('matrix_files/barcodes.tsv', 'w') as f:\n",
    "  for item in adata.obs_names:\n",
    "  f.write(item + '\\n')\n",
    "\n",
    "with open('matrix_files/features.tsv', 'w') as f:\n",
    "  for item in ['\\t'.join([x,x,'Gene Expression']) for x in adata.var_names]:\n",
    "  f.write(item + '\\n')\n",
    "\n",
    "io.mmwrite('matrix_files/matrix', adata.X.T)\n",
    "\n",
    "# Salvando o metadata\n",
    "\n",
    "adata.obs.to_csv('matrix_files/metadata.csv')\n",
    "\n"
   ]
  },
  {
   "cell_type": "markdown",
   "id": "3adb7dac",
   "metadata": {
    "lines_to_next_cell": 0
   },
   "source": [
    "# Aqui já é diretamente no R\n",
    "\n",
    "# Pacotes"
   ]
  },
  {
   "cell_type": "code",
   "execution_count": null,
   "id": "4ca2099a",
   "metadata": {},
   "outputs": [],
   "source": [
    "library(BiocManager)\n",
    "library(dplyr)\n",
    "library(pheatmap)\n",
    "library(ggplot2)\n",
    "library(Seurat)\n",
    "library(harmony)\n",
    "library(infercnv)\n",
    "library(CellChat)\n",
    "library(monocle)\n",
    "library(tibble)\n",
    "library(SingleCellExperiment)\n",
    "library(purrr)\n",
    "library(magrittr)\n",
    "library(edgeR)\n",
    "library(Matrix)\n",
    "library(DESeq2)\n",
    "library(VennDiagram)\n",
    "library(muscat)\n",
    "library(SingleR)\n",
    "library(enrichR)\n",
    "library(msigdbr)\n",
    "library(Matrix.utils)\n",
    "library(apeglm)\n",
    "library(UpSetR)\n",
    "library(RColorBrewer)\n",
    "library(scater)\n",
    "library(tidyr)\n",
    "library(SeuratWrappers)\n",
    "library(remotes)\n",
    "library(Rmagic)\n",
    "library(UCell)\n",
    "library(ggpubr)\n",
    "library(Scillus)\n",
    "library(viridis)\n",
    "library(WGCNA)\n",
    "library(hdWGCNA)\n",
    "library(patchwork)\n",
    "library(igraph)\n",
    "library(cowplot)\n",
    "library(tidyverse)\n",
    "library(gridGraphics)\n",
    "library(gridExtra)\n",
    "library(ggplotify)\n",
    "library(ComplexHeatmap)\n",
    "library(iDEA)\n",
    "library(clusterProfiler)\n",
    "library(cola)\n",
    "library(corrplot)\n",
    "library(plot3D)\n",
    "library(plotly)\n",
    "library(dyno)\n",
    "library(Nebulosa)\n",
    "library(EnhancedVolcano)\n",
    "library(InterCellar)\n",
    "library(miloR)\n",
    "library(symphony)\n",
    "library(SeuratDisk)\n",
    "library(BisqueRNA)"
   ]
  },
  {
   "cell_type": "markdown",
   "id": "adbc3e52",
   "metadata": {
    "lines_to_next_cell": 0
   },
   "source": [
    "# Carregando o metadata. Aqui já temos as doublets identificadas e vamos removê-las"
   ]
  },
  {
   "cell_type": "code",
   "execution_count": null,
   "id": "5ace4b8f",
   "metadata": {},
   "outputs": [],
   "source": [
    "metadata <- read.csv(\"D:/Scanpy/Workflow_A/metadata_workflow_peng.csv\")"
   ]
  },
  {
   "cell_type": "markdown",
   "id": "81eab15e",
   "metadata": {
    "lines_to_next_cell": 0
   },
   "source": [
    "# Por configurações diferentes entre Python e R, os barcodes estão na primeira coluna e não em rownames\n",
    "# Arrumamos isso e deletamos a coluna"
   ]
  },
  {
   "cell_type": "code",
   "execution_count": null,
   "id": "1e11b9e3",
   "metadata": {},
   "outputs": [],
   "source": [
    "rownames(metadata) <- metadata$X\n",
    "metadata$X <- NULL\n",
    "View(metadata)"
   ]
  },
  {
   "cell_type": "markdown",
   "id": "86d9dff1",
   "metadata": {
    "lines_to_next_cell": 0
   },
   "source": [
    "# Importando os barcodes, features e matrix"
   ]
  },
  {
   "cell_type": "code",
   "execution_count": null,
   "id": "630d52fa",
   "metadata": {},
   "outputs": [],
   "source": [
    "counts <- readMM(\"D:/Scanpy/peng_to_seurat/matrix.mtx\")\n",
    "genes <- read_tsv(\"D:/Scanpy/peng_to_seurat/features.tsv\", col_names = FALSE)\n",
    "cell_ids <- read_tsv(\"D:/Scanpy/peng_to_seurat/barcodes.tsv\", col_names = FALSE)"
   ]
  },
  {
   "cell_type": "markdown",
   "id": "2b2e0316",
   "metadata": {
    "lines_to_next_cell": 0
   },
   "source": [
    "# Configurando a matriz para que nas linhas (rownames) tenhamos os genes e nas colunas (colnames) os barcodes"
   ]
  },
  {
   "cell_type": "code",
   "execution_count": null,
   "id": "1f9b6d1a",
   "metadata": {},
   "outputs": [],
   "source": [
    "rownames(counts) <- genes$X1\n",
    "colnames(counts) <- cell_ids$X1"
   ]
  },
  {
   "cell_type": "markdown",
   "id": "ccc3d042",
   "metadata": {
    "lines_to_next_cell": 0
   },
   "source": [
    "# Criando o objeto Seurat"
   ]
  },
  {
   "cell_type": "code",
   "execution_count": null,
   "id": "03f69a55",
   "metadata": {},
   "outputs": [],
   "source": [
    "sobj <- CreateSeuratObject(counts = counts, meta.data = metadata)\n",
    "sobj"
   ]
  },
  {
   "cell_type": "markdown",
   "id": "c7fb31be",
   "metadata": {
    "lines_to_next_cell": 0
   },
   "source": [
    "# Vamos iniciar removendo as doublets"
   ]
  },
  {
   "cell_type": "code",
   "execution_count": null,
   "id": "2b2fb76f",
   "metadata": {},
   "outputs": [],
   "source": [
    "sobj <- SetIdent(sobj, value = sobj$doublet_pred)\n",
    "sobj <- subset(sobj, idents = \"singlet\")\n",
    "sobj"
   ]
  },
  {
   "cell_type": "markdown",
   "id": "75e9b693",
   "metadata": {
    "lines_to_next_cell": 0
   },
   "source": [
    "# Vamos plotar os gráficos de QC (quality-control)"
   ]
  },
  {
   "cell_type": "code",
   "execution_count": null,
   "id": "309a6b22",
   "metadata": {},
   "outputs": [],
   "source": [
    "VlnPlot(sobj, features = c(\"n_genes_by_counts\", \"total_counts\", \"pct_counts_ribo\", \"pct_counts_hb\"), ncol = 4)\n",
    "FeatureScatter(sobj, feature1 = \"total_counts\", feature2 = \"n_genes_by_counts\")\n",
    "\n",
    "metadata <- sobj@meta.data\n",
    "\n",
    "metadata %>% \n",
    "  ggplot(aes(x=Patient, fill=Patient)) + \n",
    "  geom_bar() +\n",
    "  theme_classic() +\n",
    "  theme(axis.text.x = element_text(angle = 90, vjust = 1, hjust=1)) +\n",
    "  theme(plot.title = element_text(hjust=0.5, face=\"bold\")) +\n",
    "  ggtitle(\"Número de células por paciente\")\n",
    "\n",
    "metadata %>% \n",
    "  ggplot(aes(x=Patient, y=log10(n_genes_by_counts), fill=Patient)) + \n",
    "  geom_boxplot() + \n",
    "  theme_classic() +\n",
    "  theme(axis.text.x = element_text(angle = 90, vjust = 1, hjust=1)) +\n",
    "  theme(plot.title = element_text(hjust=0.5, face=\"bold\")) +\n",
    "  ggtitle(\"Genes encontrados por paciente\")"
   ]
  },
  {
   "cell_type": "markdown",
   "id": "6c5d98a8",
   "metadata": {
    "lines_to_next_cell": 0
   },
   "source": [
    "# Normalização com LogNormalize, Cell-cycle score e identificação dos 3000 HVGs"
   ]
  },
  {
   "cell_type": "code",
   "execution_count": null,
   "id": "5938881f",
   "metadata": {},
   "outputs": [],
   "source": [
    "sobj <- NormalizeData(object = sobj, normalization.method = \"LogNormalize\", scale.factor = 10000)\n",
    "s.genes <- cc.genes$s.genes\n",
    "g2m.genes <- cc.genes$g2m.genes\n",
    "sobj <- CellCycleScoring(sobj, g2m.features = g2m.genes, \n",
    "                                 s.features = s.genes)\n",
    "sobj$CC.Difference <- sobj$S.Score - sobj$G2M.Score\n",
    "sobj <- FindVariableFeatures(sobj, selection.method = \"vst\", nfeatures = 3000, verbose = FALSE)"
   ]
  },
  {
   "cell_type": "markdown",
   "id": "ab1efb3b",
   "metadata": {
    "lines_to_next_cell": 0
   },
   "source": [
    "# Scale data e PCA. Indicamos no argumento features que vamos realizar o scaling somente nos HVGs"
   ]
  },
  {
   "cell_type": "code",
   "execution_count": null,
   "id": "a6eeac05",
   "metadata": {},
   "outputs": [],
   "source": [
    "sobj <- ScaleData(sobj, features = VariableFeatures(sobj))\n",
    "sobj <- RunPCA(sobj, npcs = 50, verbose = TRUE)"
   ]
  },
  {
   "cell_type": "markdown",
   "id": "c255f601",
   "metadata": {
    "lines_to_next_cell": 0
   },
   "source": [
    "# Identificando o melhor número de PCs para incluir nos passos downstream"
   ]
  },
  {
   "cell_type": "code",
   "execution_count": null,
   "id": "daea6b2c",
   "metadata": {
    "lines_to_next_cell": 0
   },
   "outputs": [],
   "source": [
    "ElbowPlot(sobj, ndims = 50)"
   ]
  },
  {
   "cell_type": "markdown",
   "id": "7dcde837",
   "metadata": {
    "lines_to_next_cell": 0
   },
   "source": [
    "# Olhando o Elbowplot acima percebemos que um bom número de PCs está entre 30-35. Dificilmente teremos grandes diferenças na clusterização se optarmos por usar 35 < nPCs. Podemos aplicar uma fórmula para verificar quanto de variância está sendo capturada com 30-35 PCs. Com 30 PCs, já capturamos 90% da variância."
   ]
  },
  {
   "cell_type": "code",
   "execution_count": null,
   "id": "c2067aa5",
   "metadata": {
    "lines_to_next_cell": 0
   },
   "outputs": [],
   "source": [
    "stdev <- sobj@reductions$pca@stdev\n",
    "var <- stdev^2\n",
    "sum(var[1:30])/ sum(var)\n",
    "sum(var[1:35])/ sum(var)"
   ]
  },
  {
   "cell_type": "markdown",
   "id": "44e4a6ed",
   "metadata": {
    "lines_to_next_cell": 0
   },
   "source": [
    "# Integração e remoção do efeito de batch com Harmony"
   ]
  },
  {
   "cell_type": "code",
   "execution_count": null,
   "id": "0e529949",
   "metadata": {},
   "outputs": [],
   "source": [
    "sobj <- RunHarmony(sobj, group.by.vars = \"Patient\")"
   ]
  },
  {
   "cell_type": "markdown",
   "id": "bb3332dc",
   "metadata": {
    "lines_to_next_cell": 0
   },
   "source": [
    "# FindNeighbors, UMAP e visualização"
   ]
  },
  {
   "cell_type": "code",
   "execution_count": null,
   "id": "3b871b7e",
   "metadata": {
    "dpi": 200,
    "fig.height": 8,
    "fig.width": 16
   },
   "outputs": [],
   "source": [
    "sobj <- FindNeighbors(object = sobj, dims = 1:30, reduction = \"harmony\")\n",
    "sobj <- RunUMAP(object = sobj, dims = 1:30, reduction = \"harmony\")\n",
    "\n",
    "p1<-DimPlot(object = sobj, reduction = \"umap\", group.by = \"Condition\")\n",
    "p2<-DimPlot(object = sobj, reduction = \"umap\", group.by = \"Patient\")+NoLegend()\n",
    "p1+p2"
   ]
  },
  {
   "cell_type": "markdown",
   "id": "0acbad23",
   "metadata": {
    "lines_to_next_cell": 0
   },
   "source": [
    "# Clusterização"
   ]
  },
  {
   "cell_type": "code",
   "execution_count": null,
   "id": "31801049",
   "metadata": {
    "lines_to_next_cell": 0
   },
   "outputs": [],
   "source": [
    "for (i in c(0.3, 0.5, 0.7)) {\n",
    "  sobj <- FindClusters(sobj, resolution = i, reduction = \"harmony\")\n",
    "  print(DimPlot(sobj, reduction = \"umap\") + labs(title = paste0(\"resolution: \", i)))\n",
    "}"
   ]
  },
  {
   "cell_type": "markdown",
   "id": "1f0afa84",
   "metadata": {
    "lines_to_next_cell": 0
   },
   "source": [
    "# FeaturePlot, DotPlot e Heatmap para anotação dos tipos celulares"
   ]
  },
  {
   "cell_type": "code",
   "execution_count": null,
   "id": "5758ee2c",
   "metadata": {
    "fig.height": 12,
    "fig.width": 12,
    "lines_to_next_cell": 0
   },
   "outputs": [],
   "source": [
    "features <- c(\"EPCAM\", \"CTRB1\", \"FXYD2\", \"FXYD3\", \"DCN\", \"COL1A1\",\n",
    "                               \"PLVAP\", \"ACTA2\", \"PTPRC\", \"CD79A\", \"MZB1\", \"CD3D\",\n",
    "                               \"NKG7\", \"CD68\", \"CD14\", \"AIF1\")\n",
    "FeaturePlot(sobj, features = features, cols = c(\"lightgrey\", \"red\"), raster = TRUE, ncol = 4)\n",
    "DotPlot(object = sobj, features = features, idents = sobj$RNA_snn_res.0.3, cols = c(\"lightgrey\", \"red\"))+RotatedAxis()\n",
    "FeaturePlot(sobj, features = \"INS\", cols = c(\"lightgrey\", \"red\"))"
   ]
  },
  {
   "cell_type": "markdown",
   "id": "ff400920",
   "metadata": {
    "lines_to_next_cell": 0
   },
   "source": [
    "# Expressão diferencial entre os clusters para identificação de marcadores"
   ]
  },
  {
   "cell_type": "code",
   "execution_count": null,
   "id": "e701aa7a",
   "metadata": {},
   "outputs": [],
   "source": [
    "markers <- FindAllMarkers(object = sobj, logfc.threshold = 0.5, test.use = \"roc\")\n",
    "head(markers)"
   ]
  },
  {
   "cell_type": "markdown",
   "id": "722c45d0",
   "metadata": {
    "lines_to_next_cell": 0
   },
   "source": [
    "# Assinaturas gênicas com UCell"
   ]
  },
  {
   "cell_type": "code",
   "execution_count": null,
   "id": "a1045ae9",
   "metadata": {
    "lines_to_next_cell": 0
   },
   "outputs": [],
   "source": [
    "tnk_genes <- c(\"CD3D\", \"IL7R\", \"CD3E\", \"CD8A\", \"NKG7\")\n",
    "fibro_genes <- c(\"COL1A1\", \"DCN\", \"CTHRC1\", \"MMP11\", \"C7\")\n",
    "duct_genes <- c(\"CFTR\", \"AMBP\", \"FXYD2\", \"EPCAM\")\n",
    "stellate_genes <- c(\"ACTA2\", \"RGS5\", \"PDGFRB\", \"MYH11\", \"COL1A1\")\n",
    "myeloid_genes <- c(\"CD14\", \"CD68\", \"HLA-DRA\", \"AIF1\", \"APOE\")\n",
    "b_genes <- c(\"MS4A1\", \"CD19\", \"CD79A\", \"CD27\", \"CD79B\")\n",
    "plasma_genes <- c(\"MZB1\", \"IGLL5\", \"JCHAIN\", \"DERL3\")\n",
    "endo_genes <- c(\"PLVAP\", \"VWF\", \"CDH5\", \"CLDN5\")\n",
    "endoc_genes <- c(\"INS\", \"SST\", \"TTR\")\n",
    "malig_genes <- c(\"MUC1\", \"KRT19\", \"FXYD3\", \"SOX9\", \"TFF1\", \"TFF2\", \"TFF3\")\n",
    "acinar_genes <- c(\"CPB1\", \"SPINK1\", \"PRSS1\", \"CTRB1\", \"AMY2A\", \"TRY4\")\n",
    "\n",
    "cell_markers <- list()\n",
    "cell_markers$Tnk <- c(tnk_genes)\n",
    "cell_markers$Fibro <- c(fibro_genes)\n",
    "cell_markers$Duct <- c(duct_genes)\n",
    "cell_markers$Stellate <- c(stellate_genes)\n",
    "cell_markers$Myeloid <- c(myeloid_genes)\n",
    "cell_markers$Bcells <- c(b_genes)\n",
    "cell_markers$Plasma <- c(plasma_genes)\n",
    "cell_markers$Endothelial <- c(endo_genes)\n",
    "cell_markers$Endocrine <- c(endoc_genes)\n",
    "cell_markers$Malignant <- c(malig_genes)\n",
    "cell_markers$Acinar <- c(acinar_genes)\n",
    "\n",
    "sobj <- AddModuleScore_UCell(sobj, features = cell_markers)\n",
    "signature.names <- paste0(names(cell_markers), \"_UCell\")"
   ]
  },
  {
   "cell_type": "markdown",
   "id": "9658ab4a",
   "metadata": {
    "lines_to_next_cell": 0
   },
   "source": [
    "# Visualização dos scores"
   ]
  },
  {
   "cell_type": "code",
   "execution_count": null,
   "id": "43c072da",
   "metadata": {},
   "outputs": [],
   "source": [
    "DotPlot(sobj, features = signature.names, cols = c(\"lightgrey\", \"red\"))+RotatedAxis()"
   ]
  },
  {
   "cell_type": "markdown",
   "id": "96f822bb",
   "metadata": {
    "lines_to_next_cell": 0
   },
   "source": [
    "# Salvando o dataframe com os marcadores"
   ]
  },
  {
   "cell_type": "code",
   "execution_count": null,
   "id": "37078d0e",
   "metadata": {
    "lines_to_next_cell": 2
   },
   "outputs": [],
   "source": [
    "write.table(markers,file='D:Scanpy/Workflow_A/roc_markers_seurat.csv',\n",
    "  quote=F,row.names=F,col.names=F\n",
    ")"
   ]
  },
  {
   "cell_type": "markdown",
   "id": "2e8d3aba",
   "metadata": {
    "lines_to_next_cell": 0
   },
   "source": [
    "# Anotação dos clusters"
   ]
  },
  {
   "cell_type": "code",
   "execution_count": null,
   "id": "19a28ee6",
   "metadata": {
    "dpi": 200,
    "fig.height": 8,
    "fig.width": 10,
    "lines_to_next_cell": 0
   },
   "outputs": [],
   "source": [
    "sobj <- SetIdent(sobj, value = sobj$RNA_snn_res.0.3)\n",
    "cell_ids <- c(\"Ductal cells 2\", \"Ductal cells 1\", \"Endothelial cells\", \"Fibroblasts\",\n",
    "              \"Stellate cells\", \"Myeloid cells\", \"T-NK cells\", \"B cells\", \"Acinar cells\",\n",
    "              \"Mixed cycling cells\", \"Endothelial cells\", \"Endocrine cells\", \"Plasma cells\",\n",
    "              \"Endothelial cells\", \"Myeloid cells\", \"Ductal cells 1\", \"Stellate cells\")\n",
    "names(cell_ids) <- levels(sobj)\n",
    "sobj <- RenameIdents(sobj, cell_ids)\n",
    "sobj[[\"cell_type\"]] <- Idents(object = sobj)\n",
    "DimPlot(sobj, reduction = \"umap\")"
   ]
  },
  {
   "cell_type": "markdown",
   "id": "052604cc",
   "metadata": {
    "lines_to_next_cell": 0
   },
   "source": [
    "# Salvando objeto Seurat"
   ]
  },
  {
   "cell_type": "code",
   "execution_count": null,
   "id": "0eb770da",
   "metadata": {},
   "outputs": [],
   "source": [
    "saveRDS(object = sobj, file = 'D:/Scanpy/Workflow_A/seurat_peng.rds')"
   ]
  },
  {
   "cell_type": "markdown",
   "id": "d5c43403",
   "metadata": {
    "lines_to_next_cell": 0
   },
   "source": [
    "# Composição celular"
   ]
  },
  {
   "cell_type": "code",
   "execution_count": null,
   "id": "f001c39a",
   "metadata": {
    "fig.height": 8,
    "fig.width": 16
   },
   "outputs": [],
   "source": [
    "composition1 <- table(Idents(sobj), sobj$Condition)\n",
    "composition1 <- as.data.frame(composition1)\n",
    "composition1$Var1 <- as.character(composition1$Var1)\n",
    "composition1$Var2 <- as.character(composition1$Var2)\n",
    "composition1 = composition1 %>% rename(Cell_Type = \"Var1\", Condition = \"Var2\") %>%\n",
    "  group_by(Condition) %>%\n",
    "  mutate(Percent = Freq / sum(Freq)*100)\n",
    "\n",
    "composition2 <- table(Idents(sobj), sobj$Patient)\n",
    "composition2 <- as.data.frame(composition2)\n",
    "composition2$Var1 <- as.character(composition2$Var1)\n",
    "composition2$Var2 <- as.character(composition2$Var2)\n",
    "composition2 = composition2 %>% rename(Cell_Type = \"Var1\", Patient = \"Var2\") %>%\n",
    "  group_by(Patient) %>%\n",
    "  mutate(Percent = Freq / sum(Freq)*100)\n",
    "composition2$Patient <- factor(composition2$Patient,\n",
    "                                      levels = c(\"N1\", \"N2\", \"N3\", \"N4\", \"N5\", \"N6\", \"N7\",\n",
    "                                                 \"N8\", \"N9\", \"N10\", \"N11\", \"T1\", \"T2\", \"T3\",\n",
    "                                                 \"T4\", \"T5\", \"T6\", \"T7\", \"T8\", \"T9\", \"T10\",\n",
    "                                                 \"T11\", \"T12\", \"T13\", \"T14\", \"T15\", \"T16\", \"T17\",\n",
    "                                                 \"T18\", \"T19\", \"T20\", \"T21\", \"T22\", \"T23\", \"T24\"))\n",
    "\n",
    "p1 <- ggplot(composition1, aes(x = Condition, y = Percent, fill = Cell_Type)) +\n",
    "  geom_bar(stat = \"identity\", color = \"black\") +\n",
    "  theme_bw()+ggtitle(\"Cell type proportion per condition\")\n",
    "\n",
    "p2<-  ggplot(composition2, aes(x = Patient, y = Percent, fill = Cell_Type)) +\n",
    "  geom_bar(stat = \"identity\", color = \"black\") +\n",
    "  theme_bw()+theme(axis.text.x = element_text(angle = 90, size = 8, hjust = 1))+ggtitle(\"Cell type proportion per patient\")\n",
    "\n",
    "p1+p2"
   ]
  }
 ],
 "metadata": {
  "jupytext": {
   "cell_metadata_filter": "fig.height,fig.width,dpi,-all",
   "main_language": "R",
   "notebook_metadata_filter": "-all"
  }
 },
 "nbformat": 4,
 "nbformat_minor": 5
}
